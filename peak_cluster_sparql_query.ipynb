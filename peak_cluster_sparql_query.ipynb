{
 "metadata": {
  "name": "peak_cluster_sparql_query"
 },
 "nbformat": 3,
 "nbformat_minor": 0,
 "worksheets": [
  {
   "cells": [
    {
     "cell_type": "code",
     "collapsed": false,
     "input": [
      "import rdflib"
     ],
     "language": "python",
     "metadata": {},
     "outputs": [],
     "prompt_number": 175
    },
    {
     "cell_type": "code",
     "collapsed": false,
     "input": [
      "g=rdflib.Graph()\n",
      "g.parse('nidm.ttl',format='turtle')"
     ],
     "language": "python",
     "metadata": {},
     "outputs": [
      {
       "output_type": "pyout",
       "prompt_number": 176,
       "text": [
        "<Graph identifier=Nb533c06f02b441908b3b17bf5e26b509 (<class 'rdflib.graph.Graph'>)>"
       ]
      }
     ],
     "prompt_number": 176
    },
    {
     "cell_type": "code",
     "collapsed": false,
     "input": [
      "prov = rdflib.URIRef('http://www.w3.org/ns/prov#')\n",
      "xsd = rdflib.URIRef('http://www.w3.org/2001/XMLSchema#')\n",
      "neurolex = rdflib.URIRef('http://neurolex.org/wiki/')\n",
      "spm = rdflib.URIRef('http://www.incf.org/ns/nidash/spm#')\n",
      "nidm = rdflib.URIRef('http://www.incf.org/ns/nidash/nidm#')\n",
      "niiri = rdflib.URIRef('http://iri.nidash.org/')\n",
      "crypto = rdflib.URIRef('http://id.loc.gov/vocabulary/preservation/cryptographicHashFunctions#')\n",
      "dct = rdflib.URIRef('http://purl.org/dc/terms/')\n",
      "rdfs = rdflib.URIRef('http://www.w3.org/2000/01/rdf-schema#')\n",
      "\n",
      "\n",
      "#qres = g.query (\"\"\"SELECT DISTINCT ?peak ?property ?value WHERE { ?peak a nidm:Peak . ?peak ?property ?value .}\"\"\")\n",
      "#cluster_data = g.query (\"\"\"SELECT DISTINCT ?cluster ?property ?value WHERE { ?cluster a nidm:Cluster . ?cluster ?property ?value .}\"\"\")\n",
      "#cluster_id = g.query (\"\"\"SELECT DISTINCT ?cluster WHERE { ?cluster a nidm:Cluster .}\"\"\")"
     ],
     "language": "python",
     "metadata": {},
     "outputs": [],
     "prompt_number": 177
    },
    {
     "cell_type": "code",
     "collapsed": false,
     "input": [
      "query=\"\"\"\n",
      "SELECT DISTINCT ?cluster ?peak ?x ?y ?z ?value ?pval ?stat WHERE \n",
      "{ ?peak a nidm:Peak . \n",
      "  ?cluster a nidm:Cluster . \n",
      "  ?peak prov:wasDerivedFrom ?cluster .\n",
      "  ?peak prov:atLocation ?coordinate .\n",
      "  ?coordinate nidm:coordinate1 ?x .\n",
      "  ?coordinate nidm:coordinate2 ?y .\n",
      "  ?coordinate nidm:coordinate3 ?z .\n",
      "  ?peak prov:value ?value .\n",
      "  ?peak nidm:qValueFDR ?pval .\n",
      "  ?cluster prov:wasDerivedFrom/prov:wasGeneratedBy/prov:used ?statmap .\n",
      "  ?statmap a nidm:StatisticMap . \n",
      "  ?statmap nidm:statisticType ?stat .\n",
      "}\n",
      "ORDER BY ?cluster ?peak\n",
      "\"\"\"\n",
      "\n",
      "peak_id = g.query(query)\n",
      "for peakrow in peak_id:\n",
      "    print([str(val.replace('http://iri.nidash.org/', '').replace('http://www.incf.org/ns/nidash/nidm#', '')) for val in peakrow])"
     ],
     "language": "python",
     "metadata": {},
     "outputs": [
      {
       "output_type": "stream",
       "stream": "stdout",
       "text": [
        "['cluster_0001', 'peak_0001', '57.0', '-22.0', '11.0', '17.0181045532', '4.88437123191e-11', 'TStatistic']\n",
        "['cluster_0001', 'peak_0002', '66.0', '-10.0', '-1.0', '14.3678979874', '4.88437123191e-11', 'TStatistic']\n",
        "['cluster_0001', 'peak_0003', '51.0', '-19.0', '5.0', '9.53503990173', '2.58382667482e-07', 'TStatistic']\n",
        "['cluster_0001', 'peak_0004', '57.0', '-40.0', '5.0', '9.38585662842', '4.21341395294e-07', 'TStatistic']\n",
        "['cluster_0001', 'peak_0005', '45.0', '-31.0', '17.0', '8.9136800766', '2.5185850288e-06', 'TStatistic']\n",
        "['cluster_0001', 'peak_0006', '48.0', '-10.0', '-4.0', '8.28345966339', '2.51151087302e-05', 'TStatistic']\n",
        "['cluster_0001', 'peak_0007', '51.0', '5.0', '-7.0', '8.27590179443', '2.51151087302e-05', 'TStatistic']\n",
        "['cluster_0001', 'peak_0008', '72.0', '-34.0', '-7.0', '7.39094781876', '0.000769150574375', 'TStatistic']\n",
        "['cluster_0001', 'peak_0009', '66.0', '-25.0', '-1.0', '7.31078290939', '0.000985699502936', 'TStatistic']\n",
        "['cluster_0001', 'peak_0010', '51.0', '-4.0', '-7.0', '7.16972351074', '0.00160489354203', 'TStatistic']\n",
        "['cluster_0001', 'peak_0011', '39.0', '-25.0', '8.0', '6.38652992249', '0.0245297577953', 'TStatistic']\n",
        "['cluster_0001', 'peak_0012', '33.0', '-28.0', '11.0', '6.27709579468', '0.0352578084121', 'TStatistic']\n",
        "['cluster_0002', 'peak_0013', '-63.0', '-28.0', '14.0', '15.9253873825', '4.88437123191e-11', 'TStatistic']\n",
        "['cluster_0002', 'peak_0014', '-48.0', '-34.0', '14.0', '14.6921548843', '4.88437123191e-11', 'TStatistic']\n",
        "['cluster_0002', 'peak_0015', '-66.0', '-10.0', '2.0', '13.2410755157', '4.88437123191e-11', 'TStatistic']\n",
        "['cluster_0002', 'peak_0016', '-66.0', '-22.0', '5.0', '12.9655513763', '4.88437123191e-11', 'TStatistic']\n",
        "['cluster_0002', 'peak_0017', '-51.0', '-16.0', '8.0', '10.7348489761', '2.88155990538e-09', 'TStatistic']\n",
        "['cluster_0002', 'peak_0018', '-66.0', '-34.0', '-1.0', '10.4679994583', '7.19927911457e-09', 'TStatistic']\n",
        "['cluster_0002', 'peak_0019', '-63.0', '-43.0', '8.0', '8.71757221222', '5.04754775709e-06', 'TStatistic']\n",
        "['cluster_0002', 'peak_0020', '-33.0', '-28.0', '14.0', '6.93082714081', '0.0034292044984', 'TStatistic']\n",
        "['cluster_0002', 'peak_0021', '-36.0', '-25.0', '5.0', '5.80643463135', '0.180487816765', 'TStatistic']\n",
        "['cluster_0003', 'peak_0022', '36.0', '-28.0', '-13.0', '7.03446912766', '0.00255702267308', 'TStatistic']\n",
        "['cluster_0003', 'peak_0023', '33.0', '-31.0', '-16.0', '6.95116901398', '0.00333834358002', 'TStatistic']\n",
        "['cluster_0004', 'peak_0024', '54.0', '-1.0', '44.0', '6.88246822357', '0.00393159081453', 'TStatistic']\n",
        "['cluster_0005', 'peak_0025', '-63.0', '-55.0', '-7.0', '6.08390283585', '0.0688490569142', 'TStatistic']\n",
        "['cluster_0006', 'peak_0026', '-33.0', '-31.0', '-19.0', '5.77321815491', '0.195425533682', 'TStatistic']\n",
        "['cluster_0007', 'peak_0027', '-39.0', '-76.0', '-28.0', '5.3877696991', '0.726802629942', 'TStatistic']\n",
        "['cluster_0008', 'peak_0028', '57.0', '-43.0', '56.0', '5.35545825958', '0.783029825582', 'TStatistic']\n",
        "['cluster_0009', 'peak_0029', '-57.0', '-1.0', '41.0', '5.30371522903', '0.902187441725', 'TStatistic']\n",
        "['cluster_0010', 'peak_0030', '-45.0', '41.0', '5.0', '5.29001522064', '0.913738680327', 'TStatistic']\n",
        "['cluster_0011', 'peak_0031', '45.0', '17.0', '26.0', '5.27087116241', '0.943676571501', 'TStatistic']\n"
       ]
      }
     ],
     "prompt_number": 197
    },
    {
     "cell_type": "code",
     "collapsed": false,
     "input": [
      "peakrow"
     ],
     "language": "python",
     "metadata": {},
     "outputs": [
      {
       "output_type": "pyout",
       "prompt_number": 191,
       "text": [
        "(rdflib.term.URIRef(u'http://iri.nidash.org/cluster_0011'),\n",
        " rdflib.term.URIRef(u'http://iri.nidash.org/peak_0031'),\n",
        " rdflib.term.Literal(u'45.0', datatype=rdflib.term.URIRef(u'http://www.w3.org/2001/XMLSchema#float')),\n",
        " rdflib.term.Literal(u'17.0', datatype=rdflib.term.URIRef(u'http://www.w3.org/2001/XMLSchema#float')),\n",
        " rdflib.term.Literal(u'26.0', datatype=rdflib.term.URIRef(u'http://www.w3.org/2001/XMLSchema#float')),\n",
        " rdflib.term.Literal(u'5.27087116241', datatype=rdflib.term.URIRef(u'http://www.w3.org/2001/XMLSchema#float')),\n",
        " rdflib.term.Literal(u'0.943676571501', datatype=rdflib.term.URIRef(u'http://www.w3.org/2001/XMLSchema#float')))"
       ]
      }
     ],
     "prompt_number": 191
    },
    {
     "cell_type": "code",
     "collapsed": false,
     "input": [],
     "language": "python",
     "metadata": {},
     "outputs": []
    }
   ],
   "metadata": {}
  }
 ]
}